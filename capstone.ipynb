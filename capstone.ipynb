{
 "cells": [
  {
   "cell_type": "code",
   "execution_count": 1,
   "metadata": {},
   "outputs": [],
   "source": [
    "import pandas as pd\n",
    "import numpy as np\n",
    "import seaborn as sns\n",
    "from matplotlib import pyplot as plt\n"
   ]
  },
  {
   "cell_type": "code",
   "execution_count": 2,
   "metadata": {},
   "outputs": [
    {
     "data": {
      "text/html": [
       "<div>\n",
       "<style scoped>\n",
       "    .dataframe tbody tr th:only-of-type {\n",
       "        vertical-align: middle;\n",
       "    }\n",
       "\n",
       "    .dataframe tbody tr th {\n",
       "        vertical-align: top;\n",
       "    }\n",
       "\n",
       "    .dataframe thead th {\n",
       "        text-align: right;\n",
       "    }\n",
       "</style>\n",
       "<table border=\"1\" class=\"dataframe\">\n",
       "  <thead>\n",
       "    <tr style=\"text-align: right;\">\n",
       "      <th></th>\n",
       "      <th>index</th>\n",
       "      <th>City</th>\n",
       "      <th>Date</th>\n",
       "      <th>Card Type</th>\n",
       "      <th>Exp Type</th>\n",
       "      <th>Gender</th>\n",
       "      <th>Amount</th>\n",
       "    </tr>\n",
       "  </thead>\n",
       "  <tbody>\n",
       "    <tr>\n",
       "      <th>0</th>\n",
       "      <td>0</td>\n",
       "      <td>Delhi, India</td>\n",
       "      <td>29-Oct-14</td>\n",
       "      <td>Gold</td>\n",
       "      <td>Bills</td>\n",
       "      <td>F</td>\n",
       "      <td>82475</td>\n",
       "    </tr>\n",
       "    <tr>\n",
       "      <th>1</th>\n",
       "      <td>1</td>\n",
       "      <td>Greater Mumbai, India</td>\n",
       "      <td>22-Aug-14</td>\n",
       "      <td>Platinum</td>\n",
       "      <td>Bills</td>\n",
       "      <td>F</td>\n",
       "      <td>32555</td>\n",
       "    </tr>\n",
       "    <tr>\n",
       "      <th>2</th>\n",
       "      <td>2</td>\n",
       "      <td>Bengaluru, India</td>\n",
       "      <td>27-Aug-14</td>\n",
       "      <td>Silver</td>\n",
       "      <td>Bills</td>\n",
       "      <td>F</td>\n",
       "      <td>101738</td>\n",
       "    </tr>\n",
       "    <tr>\n",
       "      <th>3</th>\n",
       "      <td>3</td>\n",
       "      <td>Greater Mumbai, India</td>\n",
       "      <td>12-Apr-14</td>\n",
       "      <td>Signature</td>\n",
       "      <td>Bills</td>\n",
       "      <td>F</td>\n",
       "      <td>123424</td>\n",
       "    </tr>\n",
       "    <tr>\n",
       "      <th>4</th>\n",
       "      <td>4</td>\n",
       "      <td>Bengaluru, India</td>\n",
       "      <td>5-May-15</td>\n",
       "      <td>Gold</td>\n",
       "      <td>Bills</td>\n",
       "      <td>F</td>\n",
       "      <td>171574</td>\n",
       "    </tr>\n",
       "    <tr>\n",
       "      <th>...</th>\n",
       "      <td>...</td>\n",
       "      <td>...</td>\n",
       "      <td>...</td>\n",
       "      <td>...</td>\n",
       "      <td>...</td>\n",
       "      <td>...</td>\n",
       "      <td>...</td>\n",
       "    </tr>\n",
       "    <tr>\n",
       "      <th>26047</th>\n",
       "      <td>26047</td>\n",
       "      <td>Kolkata, India</td>\n",
       "      <td>22-Jun-14</td>\n",
       "      <td>Silver</td>\n",
       "      <td>Travel</td>\n",
       "      <td>F</td>\n",
       "      <td>128191</td>\n",
       "    </tr>\n",
       "    <tr>\n",
       "      <th>26048</th>\n",
       "      <td>26048</td>\n",
       "      <td>Pune, India</td>\n",
       "      <td>3-Aug-14</td>\n",
       "      <td>Signature</td>\n",
       "      <td>Travel</td>\n",
       "      <td>M</td>\n",
       "      <td>246316</td>\n",
       "    </tr>\n",
       "    <tr>\n",
       "      <th>26049</th>\n",
       "      <td>26049</td>\n",
       "      <td>Hyderabad, India</td>\n",
       "      <td>16-Jan-15</td>\n",
       "      <td>Silver</td>\n",
       "      <td>Travel</td>\n",
       "      <td>M</td>\n",
       "      <td>265019</td>\n",
       "    </tr>\n",
       "    <tr>\n",
       "      <th>26050</th>\n",
       "      <td>26050</td>\n",
       "      <td>Kanpur, India</td>\n",
       "      <td>14-Sep-14</td>\n",
       "      <td>Silver</td>\n",
       "      <td>Travel</td>\n",
       "      <td>M</td>\n",
       "      <td>88174</td>\n",
       "    </tr>\n",
       "    <tr>\n",
       "      <th>26051</th>\n",
       "      <td>26051</td>\n",
       "      <td>Hyderabad, India</td>\n",
       "      <td>19-Oct-13</td>\n",
       "      <td>Signature</td>\n",
       "      <td>Bills</td>\n",
       "      <td>M</td>\n",
       "      <td>184410</td>\n",
       "    </tr>\n",
       "  </tbody>\n",
       "</table>\n",
       "<p>26052 rows × 7 columns</p>\n",
       "</div>"
      ],
      "text/plain": [
       "       index                   City       Date  Card Type Exp Type Gender  \\\n",
       "0          0           Delhi, India  29-Oct-14       Gold    Bills      F   \n",
       "1          1  Greater Mumbai, India  22-Aug-14   Platinum    Bills      F   \n",
       "2          2       Bengaluru, India  27-Aug-14     Silver    Bills      F   \n",
       "3          3  Greater Mumbai, India  12-Apr-14  Signature    Bills      F   \n",
       "4          4       Bengaluru, India   5-May-15       Gold    Bills      F   \n",
       "...      ...                    ...        ...        ...      ...    ...   \n",
       "26047  26047         Kolkata, India  22-Jun-14     Silver   Travel      F   \n",
       "26048  26048            Pune, India   3-Aug-14  Signature   Travel      M   \n",
       "26049  26049       Hyderabad, India  16-Jan-15     Silver   Travel      M   \n",
       "26050  26050          Kanpur, India  14-Sep-14     Silver   Travel      M   \n",
       "26051  26051       Hyderabad, India  19-Oct-13  Signature    Bills      M   \n",
       "\n",
       "       Amount  \n",
       "0       82475  \n",
       "1       32555  \n",
       "2      101738  \n",
       "3      123424  \n",
       "4      171574  \n",
       "...       ...  \n",
       "26047  128191  \n",
       "26048  246316  \n",
       "26049  265019  \n",
       "26050   88174  \n",
       "26051  184410  \n",
       "\n",
       "[26052 rows x 7 columns]"
      ]
     },
     "execution_count": 2,
     "metadata": {},
     "output_type": "execute_result"
    }
   ],
   "source": [
    "data = pd.read_csv('C:\\\\Users\\\\Gitau\\\\desktop\\\\pydata\\\\Credit card transactions - India - Simple.csv.zip')\n",
    "data"
   ]
  },
  {
   "cell_type": "markdown",
   "metadata": {},
   "source": [
    "\n",
    "1. CLEANING"
   ]
  },
  {
   "cell_type": "code",
   "execution_count": 7,
   "metadata": {},
   "outputs": [
    {
     "data": {
      "text/plain": [
       "index  City   Date   Card Type  Exp Type  Gender  Amount\n",
       "False  False  False  False      False     False   False     26052\n",
       "Name: count, dtype: int64"
      ]
     },
     "execution_count": 7,
     "metadata": {},
     "output_type": "execute_result"
    }
   ],
   "source": [
    "data.isnull().value_counts()"
   ]
  },
  {
   "cell_type": "code",
   "execution_count": 8,
   "metadata": {},
   "outputs": [
    {
     "data": {
      "text/plain": [
       "False    26052\n",
       "Name: count, dtype: int64"
      ]
     },
     "execution_count": 8,
     "metadata": {},
     "output_type": "execute_result"
    }
   ],
   "source": [
    "data.duplicated().value_counts()"
   ]
  },
  {
   "cell_type": "markdown",
   "metadata": {},
   "source": [
    "PRE-PROCESSING"
   ]
  },
  {
   "cell_type": "code",
   "execution_count": 9,
   "metadata": {},
   "outputs": [
    {
     "name": "stdout",
     "output_type": "stream",
     "text": [
      "<class 'pandas.core.frame.DataFrame'>\n",
      "RangeIndex: 26052 entries, 0 to 26051\n",
      "Data columns (total 7 columns):\n",
      " #   Column     Non-Null Count  Dtype \n",
      "---  ------     --------------  ----- \n",
      " 0   index      26052 non-null  int64 \n",
      " 1   City       26052 non-null  object\n",
      " 2   Date       26052 non-null  object\n",
      " 3   Card Type  26052 non-null  object\n",
      " 4   Exp Type   26052 non-null  object\n",
      " 5   Gender     26052 non-null  object\n",
      " 6   Amount     26052 non-null  int64 \n",
      "dtypes: int64(2), object(5)\n",
      "memory usage: 1.4+ MB\n"
     ]
    }
   ],
   "source": [
    "data.info()"
   ]
  },
  {
   "cell_type": "code",
   "execution_count": 9,
   "metadata": {},
   "outputs": [
    {
     "name": "stderr",
     "output_type": "stream",
     "text": [
      "C:\\Users\\Gitau\\AppData\\Local\\Temp\\ipykernel_1052\\1453708669.py:1: UserWarning: Could not infer format, so each element will be parsed individually, falling back to `dateutil`. To ensure parsing is consistent and as-expected, please specify a format.\n",
      "  data['Date'] = pd.to_datetime(data['Date'])\n"
     ]
    }
   ],
   "source": [
    "data['Date'] = pd.to_datetime(data['Date'])"
   ]
  },
  {
   "cell_type": "markdown",
   "metadata": {},
   "source": [
    "ANALYSIS"
   ]
  },
  {
   "cell_type": "code",
   "execution_count": 12,
   "metadata": {},
   "outputs": [
    {
     "data": {
      "text/html": [
       "<div>\n",
       "<style scoped>\n",
       "    .dataframe tbody tr th:only-of-type {\n",
       "        vertical-align: middle;\n",
       "    }\n",
       "\n",
       "    .dataframe tbody tr th {\n",
       "        vertical-align: top;\n",
       "    }\n",
       "\n",
       "    .dataframe thead th {\n",
       "        text-align: right;\n",
       "    }\n",
       "</style>\n",
       "<table border=\"1\" class=\"dataframe\">\n",
       "  <thead>\n",
       "    <tr style=\"text-align: right;\">\n",
       "      <th></th>\n",
       "      <th>index</th>\n",
       "      <th>Date</th>\n",
       "      <th>Amount</th>\n",
       "    </tr>\n",
       "  </thead>\n",
       "  <tbody>\n",
       "    <tr>\n",
       "      <th>count</th>\n",
       "      <td>26052.000000</td>\n",
       "      <td>26052</td>\n",
       "      <td>26052.000000</td>\n",
       "    </tr>\n",
       "    <tr>\n",
       "      <th>mean</th>\n",
       "      <td>13025.500000</td>\n",
       "      <td>2014-07-30 11:34:44.385075968</td>\n",
       "      <td>156411.537425</td>\n",
       "    </tr>\n",
       "    <tr>\n",
       "      <th>min</th>\n",
       "      <td>0.000000</td>\n",
       "      <td>2013-10-04 00:00:00</td>\n",
       "      <td>1005.000000</td>\n",
       "    </tr>\n",
       "    <tr>\n",
       "      <th>25%</th>\n",
       "      <td>6512.750000</td>\n",
       "      <td>2014-03-02 00:00:00</td>\n",
       "      <td>77120.250000</td>\n",
       "    </tr>\n",
       "    <tr>\n",
       "      <th>50%</th>\n",
       "      <td>13025.500000</td>\n",
       "      <td>2014-08-02 00:00:00</td>\n",
       "      <td>153106.500000</td>\n",
       "    </tr>\n",
       "    <tr>\n",
       "      <th>75%</th>\n",
       "      <td>19538.250000</td>\n",
       "      <td>2014-12-28 00:00:00</td>\n",
       "      <td>228050.000000</td>\n",
       "    </tr>\n",
       "    <tr>\n",
       "      <th>max</th>\n",
       "      <td>26051.000000</td>\n",
       "      <td>2015-05-26 00:00:00</td>\n",
       "      <td>998077.000000</td>\n",
       "    </tr>\n",
       "    <tr>\n",
       "      <th>std</th>\n",
       "      <td>7520.708943</td>\n",
       "      <td>NaN</td>\n",
       "      <td>103063.254287</td>\n",
       "    </tr>\n",
       "  </tbody>\n",
       "</table>\n",
       "</div>"
      ],
      "text/plain": [
       "              index                           Date         Amount\n",
       "count  26052.000000                          26052   26052.000000\n",
       "mean   13025.500000  2014-07-30 11:34:44.385075968  156411.537425\n",
       "min        0.000000            2013-10-04 00:00:00    1005.000000\n",
       "25%     6512.750000            2014-03-02 00:00:00   77120.250000\n",
       "50%    13025.500000            2014-08-02 00:00:00  153106.500000\n",
       "75%    19538.250000            2014-12-28 00:00:00  228050.000000\n",
       "max    26051.000000            2015-05-26 00:00:00  998077.000000\n",
       "std     7520.708943                            NaN  103063.254287"
      ]
     },
     "execution_count": 12,
     "metadata": {},
     "output_type": "execute_result"
    }
   ],
   "source": [
    "data.describe()"
   ]
  },
  {
   "cell_type": "code",
   "execution_count": 12,
   "metadata": {},
   "outputs": [
    {
     "data": {
      "text/html": [
       "<div>\n",
       "<style scoped>\n",
       "    .dataframe tbody tr th:only-of-type {\n",
       "        vertical-align: middle;\n",
       "    }\n",
       "\n",
       "    .dataframe tbody tr th {\n",
       "        vertical-align: top;\n",
       "    }\n",
       "\n",
       "    .dataframe thead th {\n",
       "        text-align: right;\n",
       "    }\n",
       "</style>\n",
       "<table border=\"1\" class=\"dataframe\">\n",
       "  <thead>\n",
       "    <tr style=\"text-align: right;\">\n",
       "      <th></th>\n",
       "      <th>index</th>\n",
       "      <th>City</th>\n",
       "      <th>Card Type</th>\n",
       "      <th>Exp Type</th>\n",
       "      <th>Gender</th>\n",
       "      <th>Amount</th>\n",
       "    </tr>\n",
       "    <tr>\n",
       "      <th>Date</th>\n",
       "      <th></th>\n",
       "      <th></th>\n",
       "      <th></th>\n",
       "      <th></th>\n",
       "      <th></th>\n",
       "      <th></th>\n",
       "    </tr>\n",
       "  </thead>\n",
       "  <tbody>\n",
       "    <tr>\n",
       "      <th>2014-10-29</th>\n",
       "      <td>0</td>\n",
       "      <td>Delhi, India</td>\n",
       "      <td>Gold</td>\n",
       "      <td>Bills</td>\n",
       "      <td>F</td>\n",
       "      <td>82475</td>\n",
       "    </tr>\n",
       "    <tr>\n",
       "      <th>2014-08-22</th>\n",
       "      <td>1</td>\n",
       "      <td>Greater Mumbai, India</td>\n",
       "      <td>Platinum</td>\n",
       "      <td>Bills</td>\n",
       "      <td>F</td>\n",
       "      <td>32555</td>\n",
       "    </tr>\n",
       "    <tr>\n",
       "      <th>2014-08-27</th>\n",
       "      <td>2</td>\n",
       "      <td>Bengaluru, India</td>\n",
       "      <td>Silver</td>\n",
       "      <td>Bills</td>\n",
       "      <td>F</td>\n",
       "      <td>101738</td>\n",
       "    </tr>\n",
       "    <tr>\n",
       "      <th>2014-04-12</th>\n",
       "      <td>3</td>\n",
       "      <td>Greater Mumbai, India</td>\n",
       "      <td>Signature</td>\n",
       "      <td>Bills</td>\n",
       "      <td>F</td>\n",
       "      <td>123424</td>\n",
       "    </tr>\n",
       "    <tr>\n",
       "      <th>2015-05-05</th>\n",
       "      <td>4</td>\n",
       "      <td>Bengaluru, India</td>\n",
       "      <td>Gold</td>\n",
       "      <td>Bills</td>\n",
       "      <td>F</td>\n",
       "      <td>171574</td>\n",
       "    </tr>\n",
       "    <tr>\n",
       "      <th>...</th>\n",
       "      <td>...</td>\n",
       "      <td>...</td>\n",
       "      <td>...</td>\n",
       "      <td>...</td>\n",
       "      <td>...</td>\n",
       "      <td>...</td>\n",
       "    </tr>\n",
       "    <tr>\n",
       "      <th>2014-06-22</th>\n",
       "      <td>26047</td>\n",
       "      <td>Kolkata, India</td>\n",
       "      <td>Silver</td>\n",
       "      <td>Travel</td>\n",
       "      <td>F</td>\n",
       "      <td>128191</td>\n",
       "    </tr>\n",
       "    <tr>\n",
       "      <th>2014-08-03</th>\n",
       "      <td>26048</td>\n",
       "      <td>Pune, India</td>\n",
       "      <td>Signature</td>\n",
       "      <td>Travel</td>\n",
       "      <td>M</td>\n",
       "      <td>246316</td>\n",
       "    </tr>\n",
       "    <tr>\n",
       "      <th>2015-01-16</th>\n",
       "      <td>26049</td>\n",
       "      <td>Hyderabad, India</td>\n",
       "      <td>Silver</td>\n",
       "      <td>Travel</td>\n",
       "      <td>M</td>\n",
       "      <td>265019</td>\n",
       "    </tr>\n",
       "    <tr>\n",
       "      <th>2014-09-14</th>\n",
       "      <td>26050</td>\n",
       "      <td>Kanpur, India</td>\n",
       "      <td>Silver</td>\n",
       "      <td>Travel</td>\n",
       "      <td>M</td>\n",
       "      <td>88174</td>\n",
       "    </tr>\n",
       "    <tr>\n",
       "      <th>2013-10-19</th>\n",
       "      <td>26051</td>\n",
       "      <td>Hyderabad, India</td>\n",
       "      <td>Signature</td>\n",
       "      <td>Bills</td>\n",
       "      <td>M</td>\n",
       "      <td>184410</td>\n",
       "    </tr>\n",
       "  </tbody>\n",
       "</table>\n",
       "<p>26052 rows × 6 columns</p>\n",
       "</div>"
      ],
      "text/plain": [
       "            index                   City  Card Type Exp Type Gender  Amount\n",
       "Date                                                                       \n",
       "2014-10-29      0           Delhi, India       Gold    Bills      F   82475\n",
       "2014-08-22      1  Greater Mumbai, India   Platinum    Bills      F   32555\n",
       "2014-08-27      2       Bengaluru, India     Silver    Bills      F  101738\n",
       "2014-04-12      3  Greater Mumbai, India  Signature    Bills      F  123424\n",
       "2015-05-05      4       Bengaluru, India       Gold    Bills      F  171574\n",
       "...           ...                    ...        ...      ...    ...     ...\n",
       "2014-06-22  26047         Kolkata, India     Silver   Travel      F  128191\n",
       "2014-08-03  26048            Pune, India  Signature   Travel      M  246316\n",
       "2015-01-16  26049       Hyderabad, India     Silver   Travel      M  265019\n",
       "2014-09-14  26050          Kanpur, India     Silver   Travel      M   88174\n",
       "2013-10-19  26051       Hyderabad, India  Signature    Bills      M  184410\n",
       "\n",
       "[26052 rows x 6 columns]"
      ]
     },
     "execution_count": 12,
     "metadata": {},
     "output_type": "execute_result"
    }
   ],
   "source": [
    "th = data.set_index('Date')\n",
    "th"
   ]
  },
  {
   "cell_type": "code",
   "execution_count": 25,
   "metadata": {},
   "outputs": [
    {
     "data": {
      "text/plain": [
       "Date\n",
       "2013-10-31    1291\n",
       "2013-11-30    1257\n",
       "2013-12-31    1379\n",
       "2014-01-31    1345\n",
       "2014-02-28    1191\n",
       "2014-03-31    1314\n",
       "2014-04-30    1295\n",
       "2014-05-31    1321\n",
       "2014-06-30    1239\n",
       "2014-07-31    1310\n",
       "2014-08-31    1393\n",
       "2014-09-30    1321\n",
       "2014-10-31    1374\n",
       "2014-11-30    1365\n",
       "2014-12-31    1323\n",
       "2015-01-31    1377\n",
       "2015-02-28    1242\n",
       "2015-03-31    1308\n",
       "2015-04-30    1292\n",
       "2015-05-31    1115\n",
       "Freq: ME, Name: Exp Type, dtype: int64"
      ]
     },
     "execution_count": 25,
     "metadata": {},
     "output_type": "execute_result"
    }
   ],
   "source": [
    "monthly = th['Exp Type'].resample('ME').count()\n",
    "monthly"
   ]
  },
  {
   "cell_type": "code",
   "execution_count": 26,
   "metadata": {},
   "outputs": [
    {
     "data": {
      "image/png": "[encoded data removed]",
      "text/plain": [
       "<Figure size 640x480 with 1 Axes>"
      ]
     },
     "metadata": {},
     "output_type": "display_data"
    }
   ],
   "source": [
    "monthly.plot(kind= 'line')\n",
    "plt.title('number of transcation per month over the 20 months')\n",
    "plt.ylabel('Number of transactions ')\n",
    "plt.show()"
   ]
  },
  {
   "cell_type": "code",
   "execution_count": 43,
   "metadata": {},
   "outputs": [
    {
     "data": {
      "text/plain": [
       "Gender  Card Type\n",
       "F       Gold         3287\n",
       "        Platinum     3252\n",
       "        Signature    3368\n",
       "        Silver       3773\n",
       "M       Gold         3080\n",
       "        Platinum     3146\n",
       "        Signature    3079\n",
       "        Silver       3067\n",
       "Name: Card Type, dtype: int64"
      ]
     },
     "execution_count": 43,
     "metadata": {},
     "output_type": "execute_result"
    }
   ],
   "source": [
    "k = th.groupby(['Gender','Card Type'])['Card Type'].count()\n",
    "k"
   ]
  },
  {
   "cell_type": "code",
   "execution_count": 28,
   "metadata": {},
   "outputs": [
    {
     "data": {
      "image/png": "[encoded data removed]",
      "text/plain": [
       "<Figure size 640x480 with 1 Axes>"
      ]
     },
     "metadata": {},
     "output_type": "display_data"
    }
   ],
   "source": [
    "x = ['Gold','Platinum','Signature','Silver']\n",
    "y1 =[3287, 3252,3368,3773]\n",
    "y2 =[3080,3146,3079,3067]\n",
    "\n",
    "plt.bar(x,y1,color='m')\n",
    "plt.bar(x,y2,bottom=y1,color='k')\n",
    "plt.xlabel('Card Type')\n",
    "plt.ylabel('Number of Holders')\n",
    "plt.legend(['Female','Male'])\n",
    "plt.title('Number of card holders per gender')\n",
    "plt.show()"
   ]
  },
  {
   "cell_type": "code",
   "execution_count": 44,
   "metadata": {},
   "outputs": [
    {
     "data": {
      "text/html": [
       "<div>\n",
       "<style scoped>\n",
       "    .dataframe tbody tr th:only-of-type {\n",
       "        vertical-align: middle;\n",
       "    }\n",
       "\n",
       "    .dataframe tbody tr th {\n",
       "        vertical-align: top;\n",
       "    }\n",
       "\n",
       "    .dataframe thead th {\n",
       "        text-align: right;\n",
       "    }\n",
       "</style>\n",
       "<table border=\"1\" class=\"dataframe\">\n",
       "  <thead>\n",
       "    <tr style=\"text-align: right;\">\n",
       "      <th></th>\n",
       "      <th>Gender</th>\n",
       "      <th>Exp Type</th>\n",
       "      <th>Amount</th>\n",
       "    </tr>\n",
       "  </thead>\n",
       "  <tbody>\n",
       "    <tr>\n",
       "      <th>0</th>\n",
       "      <td>F</td>\n",
       "      <td>Bills</td>\n",
       "      <td>580035469</td>\n",
       "    </tr>\n",
       "    <tr>\n",
       "      <th>1</th>\n",
       "      <td>F</td>\n",
       "      <td>Entertainment</td>\n",
       "      <td>358663333</td>\n",
       "    </tr>\n",
       "    <tr>\n",
       "      <th>2</th>\n",
       "      <td>F</td>\n",
       "      <td>Food</td>\n",
       "      <td>452817279</td>\n",
       "    </tr>\n",
       "    <tr>\n",
       "      <th>3</th>\n",
       "      <td>F</td>\n",
       "      <td>Fuel</td>\n",
       "      <td>392282421</td>\n",
       "    </tr>\n",
       "    <tr>\n",
       "      <th>4</th>\n",
       "      <td>F</td>\n",
       "      <td>Grocery</td>\n",
       "      <td>365646998</td>\n",
       "    </tr>\n",
       "    <tr>\n",
       "      <th>5</th>\n",
       "      <td>F</td>\n",
       "      <td>Travel</td>\n",
       "      <td>55865530</td>\n",
       "    </tr>\n",
       "    <tr>\n",
       "      <th>6</th>\n",
       "      <td>M</td>\n",
       "      <td>Bills</td>\n",
       "      <td>327037004</td>\n",
       "    </tr>\n",
       "    <tr>\n",
       "      <th>7</th>\n",
       "      <td>M</td>\n",
       "      <td>Entertainment</td>\n",
       "      <td>367774203</td>\n",
       "    </tr>\n",
       "    <tr>\n",
       "      <th>8</th>\n",
       "      <td>M</td>\n",
       "      <td>Food</td>\n",
       "      <td>371906730</td>\n",
       "    </tr>\n",
       "    <tr>\n",
       "      <th>9</th>\n",
       "      <td>M</td>\n",
       "      <td>Fuel</td>\n",
       "      <td>396853400</td>\n",
       "    </tr>\n",
       "    <tr>\n",
       "      <th>10</th>\n",
       "      <td>M</td>\n",
       "      <td>Grocery</td>\n",
       "      <td>352560925</td>\n",
       "    </tr>\n",
       "    <tr>\n",
       "      <th>11</th>\n",
       "      <td>M</td>\n",
       "      <td>Travel</td>\n",
       "      <td>53390081</td>\n",
       "    </tr>\n",
       "  </tbody>\n",
       "</table>\n",
       "</div>"
      ],
      "text/plain": [
       "   Gender       Exp Type     Amount\n",
       "0       F          Bills  580035469\n",
       "1       F  Entertainment  358663333\n",
       "2       F           Food  452817279\n",
       "3       F           Fuel  392282421\n",
       "4       F        Grocery  365646998\n",
       "5       F         Travel   55865530\n",
       "6       M          Bills  327037004\n",
       "7       M  Entertainment  367774203\n",
       "8       M           Food  371906730\n",
       "9       M           Fuel  396853400\n",
       "10      M        Grocery  352560925\n",
       "11      M         Travel   53390081"
      ]
     },
     "execution_count": 44,
     "metadata": {},
     "output_type": "execute_result"
    }
   ],
   "source": [
    "z = th.groupby(['Gender','Exp Type'])['Amount'].sum().reset_index()\n",
    "z"
   ]
  },
  {
   "cell_type": "code",
   "execution_count": 29,
   "metadata": {},
   "outputs": [
    {
     "data": {
      "image/png": "[encoded data removed]",
      "text/plain": [
       "<Figure size 640x480 with 1 Axes>"
      ]
     },
     "metadata": {},
     "output_type": "display_data"
    }
   ],
   "source": [
    "w = 0.4\n",
    "x = ['Bills','Entertainment','Food','Fuel','Grocery','Travel']\n",
    "Female = [580035469,358663333,452817279,392282421,365646998,55865530]\n",
    "Male = [327037004,367774203,371906730,396853400,352560925,53390081]\n",
    "bar1 = np.arange(len(x))\n",
    "bar2 = [i+w for i in bar1]\n",
    "plt.bar(bar1,Female,w,label = 'Female')\n",
    "plt.bar(bar2,Male,w,label = 'Male')\n",
    "\n",
    "plt.xlabel('Exp Type')\n",
    "plt.ylabel('Amount')\n",
    "plt.title('Amount for each Exp Type Females vs Males')\n",
    "plt.xticks(bar1+w/2,x)\n",
    "plt.legend()\n",
    "plt.show()"
   ]
  },
  {
   "cell_type": "code",
   "execution_count": 45,
   "metadata": {},
   "outputs": [
    {
     "data": {
      "text/plain": [
       "Exp Type\n",
       "Food             5463\n",
       "Fuel             5257\n",
       "Bills            5078\n",
       "Entertainment    4762\n",
       "Grocery          4754\n",
       "Travel            738\n",
       "Name: count, dtype: int64"
      ]
     },
     "execution_count": 45,
     "metadata": {},
     "output_type": "execute_result"
    }
   ],
   "source": [
    "th['Exp Type'].value_counts()"
   ]
  },
  {
   "cell_type": "code",
   "execution_count": 46,
   "metadata": {},
   "outputs": [
    {
     "data": {
      "text/plain": [
       "<Axes: title={'center': 'Transaction per exp.type'}, ylabel='count'>"
      ]
     },
     "execution_count": 46,
     "metadata": {},
     "output_type": "execute_result"
    },
    {
     "data": {
      "image/png": "[encoded data removed]",
      "text/plain": [
       "<Figure size 640x480 with 1 Axes>"
      ]
     },
     "metadata": {},
     "output_type": "display_data"
    }
   ],
   "source": [
    "\n",
    "th['Exp Type'].value_counts().plot(kind='pie',y='Transaction type',title='Transaction per exp.type',autopct='%1.0f%%',shadow=True)"
   ]
  },
  {
   "cell_type": "code",
   "execution_count": 47,
   "metadata": {},
   "outputs": [
    {
     "data": {
      "text/plain": [
       "City\n",
       "Bengaluru, India         3552\n",
       "Greater Mumbai, India    3493\n",
       "Ahmedabad, India         3491\n",
       "Delhi, India             3482\n",
       "Hyderabad, India          784\n",
       "Chennai, India            774\n",
       "Kolkata, India            773\n",
       "Kanpur, India             764\n",
       "Lucknow, India            759\n",
       "Jaipur, India             752\n",
       "Name: count, dtype: int64"
      ]
     },
     "execution_count": 47,
     "metadata": {},
     "output_type": "execute_result"
    }
   ],
   "source": [
    "city = th['City'].value_counts().head(10)\n",
    "city"
   ]
  },
  {
   "cell_type": "code",
   "execution_count": 37,
   "metadata": {},
   "outputs": [
    {
     "data": {
      "image/png": "[encoded data removed]",
      "text/plain": [
       "<Figure size 640x480 with 1 Axes>"
      ]
     },
     "metadata": {},
     "output_type": "display_data"
    }
   ],
   "source": [
    "city.plot(kind='bar')\n",
    "plt.title('Top 10 cities with credit card transactions')\n",
    "plt.ylabel('Number of transactions')\n",
    "plt.show()"
   ]
  },
  {
   "cell_type": "code",
   "execution_count": 7,
   "metadata": {},
   "outputs": [
    {
     "data": {
      "text/plain": [
       "Gender\n",
       "F    13680\n",
       "M    12372\n",
       "Name: count, dtype: int64"
      ]
     },
     "execution_count": 7,
     "metadata": {},
     "output_type": "execute_result"
    }
   ],
   "source": [
    "data['Gender'].value_counts()"
   ]
  },
  {
   "cell_type": "code",
   "execution_count": 9,
   "metadata": {},
   "outputs": [
    {
     "data": {
      "text/plain": [
       "Card Type\n",
       "Silver       6840\n",
       "Signature    6447\n",
       "Platinum     6398\n",
       "Gold         6367\n",
       "Name: count, dtype: int64"
      ]
     },
     "execution_count": 9,
     "metadata": {},
     "output_type": "execute_result"
    }
   ],
   "source": [
    "data['Card Type'].value_counts()"
   ]
  },
  {
   "cell_type": "code",
   "execution_count": 48,
   "metadata": {},
   "outputs": [
    {
     "data": {
      "text/plain": [
       "Card Type\n",
       "Gold          984539536\n",
       "Platinum     1007639019\n",
       "Signature    1013041105\n",
       "Silver       1069613713\n",
       "Name: Amount, dtype: int64"
      ]
     },
     "execution_count": 48,
     "metadata": {},
     "output_type": "execute_result"
    }
   ],
   "source": [
    "b = th.groupby('Card Type')['Amount'].sum()\n",
    "b"
   ]
  },
  {
   "cell_type": "code",
   "execution_count": 49,
   "metadata": {},
   "outputs": [
    {
     "data": {
      "text/plain": [
       "Text(0.5, 1.0, 'Amount spent per card')"
      ]
     },
     "execution_count": 49,
     "metadata": {},
     "output_type": "execute_result"
    },
    {
     "data": {
      "image/png": "[encoded data removed]",
      "text/plain": [
       "<Figure size 640x480 with 1 Axes>"
      ]
     },
     "metadata": {},
     "output_type": "display_data"
    }
   ],
   "source": [
    "b.plot(kind='barh')\n",
    "plt.ylabel('Card Type')\n",
    "plt.xlabel('Amount *10^9')\n",
    "plt.title('Amount spent per card')"
   ]
  },
  {
   "cell_type": "code",
   "execution_count": 27,
   "metadata": {},
   "outputs": [
    {
     "data": {
      "text/html": [
       "<div>\n",
       "<style scoped>\n",
       "    .dataframe tbody tr th:only-of-type {\n",
       "        vertical-align: middle;\n",
       "    }\n",
       "\n",
       "    .dataframe tbody tr th {\n",
       "        vertical-align: top;\n",
       "    }\n",
       "\n",
       "    .dataframe thead th {\n",
       "        text-align: right;\n",
       "    }\n",
       "</style>\n",
       "<table border=\"1\" class=\"dataframe\">\n",
       "  <thead>\n",
       "    <tr style=\"text-align: right;\">\n",
       "      <th></th>\n",
       "      <th>index</th>\n",
       "      <th>City</th>\n",
       "      <th>Card Type</th>\n",
       "      <th>Exp Type</th>\n",
       "      <th>Gender</th>\n",
       "      <th>Amount</th>\n",
       "    </tr>\n",
       "    <tr>\n",
       "      <th>Date</th>\n",
       "      <th></th>\n",
       "      <th></th>\n",
       "      <th></th>\n",
       "      <th></th>\n",
       "      <th></th>\n",
       "      <th></th>\n",
       "    </tr>\n",
       "  </thead>\n",
       "  <tbody>\n",
       "    <tr>\n",
       "      <th>2014-04-21</th>\n",
       "      <td>25313</td>\n",
       "      <td>Kanpur, India</td>\n",
       "      <td>Platinum</td>\n",
       "      <td>Travel</td>\n",
       "      <td>F</td>\n",
       "      <td>155284</td>\n",
       "    </tr>\n",
       "    <tr>\n",
       "      <th>2013-10-05</th>\n",
       "      <td>25314</td>\n",
       "      <td>Chennai, India</td>\n",
       "      <td>Silver</td>\n",
       "      <td>Travel</td>\n",
       "      <td>M</td>\n",
       "      <td>279582</td>\n",
       "    </tr>\n",
       "    <tr>\n",
       "      <th>2014-03-05</th>\n",
       "      <td>25315</td>\n",
       "      <td>Jaipur, India</td>\n",
       "      <td>Gold</td>\n",
       "      <td>Travel</td>\n",
       "      <td>M</td>\n",
       "      <td>40391</td>\n",
       "    </tr>\n",
       "    <tr>\n",
       "      <th>2015-03-19</th>\n",
       "      <td>25316</td>\n",
       "      <td>Lucknow, India</td>\n",
       "      <td>Gold</td>\n",
       "      <td>Travel</td>\n",
       "      <td>F</td>\n",
       "      <td>70080</td>\n",
       "    </tr>\n",
       "    <tr>\n",
       "      <th>2014-08-01</th>\n",
       "      <td>25317</td>\n",
       "      <td>Jaipur, India</td>\n",
       "      <td>Silver</td>\n",
       "      <td>Travel</td>\n",
       "      <td>M</td>\n",
       "      <td>26324</td>\n",
       "    </tr>\n",
       "    <tr>\n",
       "      <th>...</th>\n",
       "      <td>...</td>\n",
       "      <td>...</td>\n",
       "      <td>...</td>\n",
       "      <td>...</td>\n",
       "      <td>...</td>\n",
       "      <td>...</td>\n",
       "    </tr>\n",
       "    <tr>\n",
       "      <th>2013-10-09</th>\n",
       "      <td>26046</td>\n",
       "      <td>Hyderabad, India</td>\n",
       "      <td>Signature</td>\n",
       "      <td>Travel</td>\n",
       "      <td>M</td>\n",
       "      <td>198903</td>\n",
       "    </tr>\n",
       "    <tr>\n",
       "      <th>2014-06-22</th>\n",
       "      <td>26047</td>\n",
       "      <td>Kolkata, India</td>\n",
       "      <td>Silver</td>\n",
       "      <td>Travel</td>\n",
       "      <td>F</td>\n",
       "      <td>128191</td>\n",
       "    </tr>\n",
       "    <tr>\n",
       "      <th>2014-08-03</th>\n",
       "      <td>26048</td>\n",
       "      <td>Pune, India</td>\n",
       "      <td>Signature</td>\n",
       "      <td>Travel</td>\n",
       "      <td>M</td>\n",
       "      <td>246316</td>\n",
       "    </tr>\n",
       "    <tr>\n",
       "      <th>2015-01-16</th>\n",
       "      <td>26049</td>\n",
       "      <td>Hyderabad, India</td>\n",
       "      <td>Silver</td>\n",
       "      <td>Travel</td>\n",
       "      <td>M</td>\n",
       "      <td>265019</td>\n",
       "    </tr>\n",
       "    <tr>\n",
       "      <th>2014-09-14</th>\n",
       "      <td>26050</td>\n",
       "      <td>Kanpur, India</td>\n",
       "      <td>Silver</td>\n",
       "      <td>Travel</td>\n",
       "      <td>M</td>\n",
       "      <td>88174</td>\n",
       "    </tr>\n",
       "  </tbody>\n",
       "</table>\n",
       "<p>738 rows × 6 columns</p>\n",
       "</div>"
      ],
      "text/plain": [
       "            index              City  Card Type Exp Type Gender  Amount\n",
       "Date                                                                  \n",
       "2014-04-21  25313     Kanpur, India   Platinum   Travel      F  155284\n",
       "2013-10-05  25314    Chennai, India     Silver   Travel      M  279582\n",
       "2014-03-05  25315     Jaipur, India       Gold   Travel      M   40391\n",
       "2015-03-19  25316    Lucknow, India       Gold   Travel      F   70080\n",
       "2014-08-01  25317     Jaipur, India     Silver   Travel      M   26324\n",
       "...           ...               ...        ...      ...    ...     ...\n",
       "2013-10-09  26046  Hyderabad, India  Signature   Travel      M  198903\n",
       "2014-06-22  26047    Kolkata, India     Silver   Travel      F  128191\n",
       "2014-08-03  26048       Pune, India  Signature   Travel      M  246316\n",
       "2015-01-16  26049  Hyderabad, India     Silver   Travel      M  265019\n",
       "2014-09-14  26050     Kanpur, India     Silver   Travel      M   88174\n",
       "\n",
       "[738 rows x 6 columns]"
      ]
     },
     "execution_count": 27,
     "metadata": {},
     "output_type": "execute_result"
    }
   ],
   "source": [
    "travel = th[th['Exp Type']=='Travel']\n",
    "travel"
   ]
  },
  {
   "cell_type": "code",
   "execution_count": 42,
   "metadata": {},
   "outputs": [
    {
     "data": {
      "text/plain": [
       "8"
      ]
     },
     "execution_count": 42,
     "metadata": {},
     "output_type": "execute_result"
    }
   ],
   "source": [
    "travel['City'].nunique()"
   ]
  },
  {
   "cell_type": "code",
   "execution_count": 43,
   "metadata": {},
   "outputs": [
    {
     "data": {
      "text/plain": [
       "City\n",
       "Jaipur, India       103\n",
       "Kanpur, India       102\n",
       "Chennai, India      101\n",
       "Hyderabad, India     99\n",
       "Kolkata, India       87\n",
       "Name: count, dtype: int64"
      ]
     },
     "execution_count": 43,
     "metadata": {},
     "output_type": "execute_result"
    }
   ],
   "source": [
    "travel['City'].value_counts().head(5)"
   ]
  },
  {
   "cell_type": "code",
   "execution_count": 44,
   "metadata": {},
   "outputs": [
    {
     "data": {
      "text/plain": [
       "Card Type\n",
       "Gold         212\n",
       "Platinum     179\n",
       "Signature    179\n",
       "Silver       168\n",
       "Name: count, dtype: int64"
      ]
     },
     "execution_count": 44,
     "metadata": {},
     "output_type": "execute_result"
    }
   ],
   "source": [
    "travel['Card Type'].value_counts()"
   ]
  },
  {
   "cell_type": "code",
   "execution_count": 17,
   "metadata": {},
   "outputs": [
    {
     "data": {
      "text/plain": [
       "Gender\n",
       "F    379\n",
       "M    359\n",
       "Name: count, dtype: int64"
      ]
     },
     "execution_count": 17,
     "metadata": {},
     "output_type": "execute_result"
    }
   ],
   "source": [
    "travel['Gender'].value_counts()"
   ]
  },
  {
   "cell_type": "code",
   "execution_count": 39,
   "metadata": {},
   "outputs": [
    {
     "data": {
      "text/plain": [
       "Date\n",
       "2013-10-31    3832883\n",
       "2013-11-30    5652840\n",
       "2013-12-31    5867883\n",
       "2014-01-31    4557965\n",
       "2014-02-28    4665816\n",
       "2014-03-31    5051459\n",
       "2014-04-30    6261113\n",
       "2014-05-31    6906496\n",
       "2014-06-30    6235434\n",
       "2014-07-31    4483812\n",
       "2014-08-31    3811831\n",
       "2014-09-30    3272659\n",
       "2014-10-31    5837558\n",
       "2014-11-30    7929200\n",
       "2014-12-31    6519505\n",
       "2015-01-31    4533120\n",
       "2015-02-28    5743725\n",
       "2015-03-31    5829348\n",
       "2015-04-30    6627294\n",
       "2015-05-31    5635670\n",
       "Freq: ME, Name: Amount, dtype: int64"
      ]
     },
     "execution_count": 39,
     "metadata": {},
     "output_type": "execute_result"
    }
   ],
   "source": [
    "k = travel['Amount']\n",
    "trv = k.resample('ME').sum()\n",
    "trv"
   ]
  },
  {
   "cell_type": "code",
   "execution_count": 33,
   "metadata": {},
   "outputs": [
    {
     "data": {
      "image/png": "[encoded data removed]",
      "text/plain": [
       "<Figure size 640x480 with 1 Axes>"
      ]
     },
     "metadata": {},
     "output_type": "display_data"
    }
   ],
   "source": [
    "trv.plot(kind='line')\n",
    "plt.xlabel('months')\n",
    "plt.ylabel('amount spent')\n",
    "plt.title('Amount spent on travel per month')\n",
    "plt.show()"
   ]
  },
  {
   "cell_type": "code",
   "execution_count": 34,
   "metadata": {},
   "outputs": [
    {
     "data": {
      "text/html": [
       "<div>\n",
       "<style scoped>\n",
       "    .dataframe tbody tr th:only-of-type {\n",
       "        vertical-align: middle;\n",
       "    }\n",
       "\n",
       "    .dataframe tbody tr th {\n",
       "        vertical-align: top;\n",
       "    }\n",
       "\n",
       "    .dataframe thead th {\n",
       "        text-align: right;\n",
       "    }\n",
       "</style>\n",
       "<table border=\"1\" class=\"dataframe\">\n",
       "  <thead>\n",
       "    <tr style=\"text-align: right;\">\n",
       "      <th></th>\n",
       "      <th>index</th>\n",
       "      <th>City</th>\n",
       "      <th>Card Type</th>\n",
       "      <th>Exp Type</th>\n",
       "      <th>Gender</th>\n",
       "      <th>Amount</th>\n",
       "    </tr>\n",
       "    <tr>\n",
       "      <th>Date</th>\n",
       "      <th></th>\n",
       "      <th></th>\n",
       "      <th></th>\n",
       "      <th></th>\n",
       "      <th></th>\n",
       "      <th></th>\n",
       "    </tr>\n",
       "  </thead>\n",
       "  <tbody>\n",
       "    <tr>\n",
       "      <th>2013-12-11</th>\n",
       "      <td>760</td>\n",
       "      <td>Ahmedabad, India</td>\n",
       "      <td>Silver</td>\n",
       "      <td>Entertainment</td>\n",
       "      <td>F</td>\n",
       "      <td>236449</td>\n",
       "    </tr>\n",
       "    <tr>\n",
       "      <th>2015-04-12</th>\n",
       "      <td>765</td>\n",
       "      <td>Delhi, India</td>\n",
       "      <td>Silver</td>\n",
       "      <td>Entertainment</td>\n",
       "      <td>F</td>\n",
       "      <td>179481</td>\n",
       "    </tr>\n",
       "    <tr>\n",
       "      <th>2013-12-27</th>\n",
       "      <td>775</td>\n",
       "      <td>Greater Mumbai, India</td>\n",
       "      <td>Silver</td>\n",
       "      <td>Entertainment</td>\n",
       "      <td>F</td>\n",
       "      <td>299122</td>\n",
       "    </tr>\n",
       "    <tr>\n",
       "      <th>2014-10-22</th>\n",
       "      <td>776</td>\n",
       "      <td>Bengaluru, India</td>\n",
       "      <td>Silver</td>\n",
       "      <td>Entertainment</td>\n",
       "      <td>F</td>\n",
       "      <td>132237</td>\n",
       "    </tr>\n",
       "    <tr>\n",
       "      <th>2015-04-26</th>\n",
       "      <td>777</td>\n",
       "      <td>Ahmedabad, India</td>\n",
       "      <td>Silver</td>\n",
       "      <td>Entertainment</td>\n",
       "      <td>F</td>\n",
       "      <td>64149</td>\n",
       "    </tr>\n",
       "    <tr>\n",
       "      <th>...</th>\n",
       "      <td>...</td>\n",
       "      <td>...</td>\n",
       "      <td>...</td>\n",
       "      <td>...</td>\n",
       "      <td>...</td>\n",
       "      <td>...</td>\n",
       "    </tr>\n",
       "    <tr>\n",
       "      <th>2014-06-19</th>\n",
       "      <td>25294</td>\n",
       "      <td>Chennai, India</td>\n",
       "      <td>Gold</td>\n",
       "      <td>Entertainment</td>\n",
       "      <td>M</td>\n",
       "      <td>108232</td>\n",
       "    </tr>\n",
       "    <tr>\n",
       "      <th>2015-01-08</th>\n",
       "      <td>25297</td>\n",
       "      <td>Hyderabad, India</td>\n",
       "      <td>Platinum</td>\n",
       "      <td>Entertainment</td>\n",
       "      <td>F</td>\n",
       "      <td>190354</td>\n",
       "    </tr>\n",
       "    <tr>\n",
       "      <th>2014-12-24</th>\n",
       "      <td>25299</td>\n",
       "      <td>Hyderabad, India</td>\n",
       "      <td>Signature</td>\n",
       "      <td>Entertainment</td>\n",
       "      <td>M</td>\n",
       "      <td>98224</td>\n",
       "    </tr>\n",
       "    <tr>\n",
       "      <th>2013-10-04</th>\n",
       "      <td>25301</td>\n",
       "      <td>Surat, India</td>\n",
       "      <td>Signature</td>\n",
       "      <td>Entertainment</td>\n",
       "      <td>F</td>\n",
       "      <td>216512</td>\n",
       "    </tr>\n",
       "    <tr>\n",
       "      <th>2013-10-22</th>\n",
       "      <td>25305</td>\n",
       "      <td>Lucknow, India</td>\n",
       "      <td>Signature</td>\n",
       "      <td>Entertainment</td>\n",
       "      <td>F</td>\n",
       "      <td>198077</td>\n",
       "    </tr>\n",
       "  </tbody>\n",
       "</table>\n",
       "<p>4762 rows × 6 columns</p>\n",
       "</div>"
      ],
      "text/plain": [
       "            index                   City  Card Type       Exp Type Gender  \\\n",
       "Date                                                                        \n",
       "2013-12-11    760       Ahmedabad, India     Silver  Entertainment      F   \n",
       "2015-04-12    765           Delhi, India     Silver  Entertainment      F   \n",
       "2013-12-27    775  Greater Mumbai, India     Silver  Entertainment      F   \n",
       "2014-10-22    776       Bengaluru, India     Silver  Entertainment      F   \n",
       "2015-04-26    777       Ahmedabad, India     Silver  Entertainment      F   \n",
       "...           ...                    ...        ...            ...    ...   \n",
       "2014-06-19  25294         Chennai, India       Gold  Entertainment      M   \n",
       "2015-01-08  25297       Hyderabad, India   Platinum  Entertainment      F   \n",
       "2014-12-24  25299       Hyderabad, India  Signature  Entertainment      M   \n",
       "2013-10-04  25301           Surat, India  Signature  Entertainment      F   \n",
       "2013-10-22  25305         Lucknow, India  Signature  Entertainment      F   \n",
       "\n",
       "            Amount  \n",
       "Date                \n",
       "2013-12-11  236449  \n",
       "2015-04-12  179481  \n",
       "2013-12-27  299122  \n",
       "2014-10-22  132237  \n",
       "2015-04-26   64149  \n",
       "...            ...  \n",
       "2014-06-19  108232  \n",
       "2015-01-08  190354  \n",
       "2014-12-24   98224  \n",
       "2013-10-04  216512  \n",
       "2013-10-22  198077  \n",
       "\n",
       "[4762 rows x 6 columns]"
      ]
     },
     "execution_count": 34,
     "metadata": {},
     "output_type": "execute_result"
    }
   ],
   "source": [
    "enter = th[th['Exp Type']=='Entertainment']\n",
    "enter"
   ]
  },
  {
   "cell_type": "code",
   "execution_count": null,
   "metadata": {},
   "outputs": [],
   "source": []
  },
  {
   "cell_type": "code",
   "execution_count": 74,
   "metadata": {},
   "outputs": [
    {
     "data": {
      "text/plain": [
       "City\n",
       "Bengaluru, India         624\n",
       "Ahmedabad, India         622\n",
       "Greater Mumbai, India    614\n",
       "Delhi, India             594\n",
       "Surat, India             152\n",
       "Name: count, dtype: int64"
      ]
     },
     "execution_count": 74,
     "metadata": {},
     "output_type": "execute_result"
    }
   ],
   "source": [
    "enter['City'].value_counts().head(5)"
   ]
  },
  {
   "cell_type": "code",
   "execution_count": 38,
   "metadata": {},
   "outputs": [
    {
     "data": {
      "text/plain": [
       "Date\n",
       "2013-10-31    38899912\n",
       "2013-11-30    35185282\n",
       "2013-12-31    39009475\n",
       "2014-01-31    35802198\n",
       "2014-02-28    31735758\n",
       "2014-03-31    38791745\n",
       "2014-04-30    38461648\n",
       "2014-05-31    34908180\n",
       "2014-06-30    34320597\n",
       "2014-07-31    40477283\n",
       "2014-08-31    40495636\n",
       "2014-09-30    36492124\n",
       "2014-10-31    37171286\n",
       "2014-11-30    38809389\n",
       "2014-12-31    36264726\n",
       "2015-01-31    39221930\n",
       "2015-02-28    31221992\n",
       "2015-03-31    33668530\n",
       "2015-04-30    38111689\n",
       "2015-05-31    27388156\n",
       "Freq: ME, Name: Amount, dtype: int64"
      ]
     },
     "execution_count": 38,
     "metadata": {},
     "output_type": "execute_result"
    }
   ],
   "source": [
    "y = enter['Amount']\n",
    "ent = y.resample('ME').sum()\n",
    "ent"
   ]
  },
  {
   "cell_type": "code",
   "execution_count": 41,
   "metadata": {},
   "outputs": [
    {
     "data": {
      "image/png": "[encoded data removed]",
      "text/plain": [
       "<Figure size 640x480 with 1 Axes>"
      ]
     },
     "metadata": {},
     "output_type": "display_data"
    }
   ],
   "source": [
    "ent.plot(kind='line')\n",
    "plt.xlabel('month')\n",
    "plt.ylabel('amount spent')\n",
    "plt.title('amount spent on entertainment per month')\n",
    "plt.show()"
   ]
  },
  {
   "cell_type": "code",
   "execution_count": 39,
   "metadata": {},
   "outputs": [
    {
     "data": {
      "text/plain": [
       "City\n",
       "Bengaluru, India         624\n",
       "Ahmedabad, India         622\n",
       "Greater Mumbai, India    614\n",
       "Delhi, India             594\n",
       "Surat, India             152\n",
       "Name: count, dtype: int64"
      ]
     },
     "execution_count": 39,
     "metadata": {},
     "output_type": "execute_result"
    }
   ],
   "source": [
    "enter['City'].value_counts().head(5)"
   ]
  },
  {
   "cell_type": "code",
   "execution_count": 40,
   "metadata": {},
   "outputs": [
    {
     "data": {
      "text/plain": [
       "Card Type\n",
       "Silver       1262\n",
       "Platinum     1187\n",
       "Signature    1170\n",
       "Gold         1143\n",
       "Name: count, dtype: int64"
      ]
     },
     "execution_count": 40,
     "metadata": {},
     "output_type": "execute_result"
    }
   ],
   "source": [
    "enter['Card Type'].value_counts()"
   ]
  },
  {
   "cell_type": "code",
   "execution_count": 41,
   "metadata": {},
   "outputs": [
    {
     "data": {
      "text/plain": [
       "Gender\n",
       "F    2384\n",
       "M    2378\n",
       "Name: count, dtype: int64"
      ]
     },
     "execution_count": 41,
     "metadata": {},
     "output_type": "execute_result"
    }
   ],
   "source": [
    "enter['Gender'].value_counts()"
   ]
  },
  {
   "cell_type": "code",
   "execution_count": 14,
   "metadata": {},
   "outputs": [
    {
     "data": {
      "text/html": [
       "<div>\n",
       "<style scoped>\n",
       "    .dataframe tbody tr th:only-of-type {\n",
       "        vertical-align: middle;\n",
       "    }\n",
       "\n",
       "    .dataframe tbody tr th {\n",
       "        vertical-align: top;\n",
       "    }\n",
       "\n",
       "    .dataframe thead th {\n",
       "        text-align: right;\n",
       "    }\n",
       "</style>\n",
       "<table border=\"1\" class=\"dataframe\">\n",
       "  <thead>\n",
       "    <tr style=\"text-align: right;\">\n",
       "      <th></th>\n",
       "      <th>index</th>\n",
       "      <th>City</th>\n",
       "      <th>Card Type</th>\n",
       "      <th>Exp Type</th>\n",
       "      <th>Gender</th>\n",
       "      <th>Amount</th>\n",
       "    </tr>\n",
       "    <tr>\n",
       "      <th>Date</th>\n",
       "      <th></th>\n",
       "      <th></th>\n",
       "      <th></th>\n",
       "      <th></th>\n",
       "      <th></th>\n",
       "      <th></th>\n",
       "    </tr>\n",
       "  </thead>\n",
       "  <tbody>\n",
       "    <tr>\n",
       "      <th>2014-10-29</th>\n",
       "      <td>0</td>\n",
       "      <td>Delhi, India</td>\n",
       "      <td>Gold</td>\n",
       "      <td>Bills</td>\n",
       "      <td>F</td>\n",
       "      <td>82475</td>\n",
       "    </tr>\n",
       "    <tr>\n",
       "      <th>2014-08-22</th>\n",
       "      <td>1</td>\n",
       "      <td>Greater Mumbai, India</td>\n",
       "      <td>Platinum</td>\n",
       "      <td>Bills</td>\n",
       "      <td>F</td>\n",
       "      <td>32555</td>\n",
       "    </tr>\n",
       "    <tr>\n",
       "      <th>2014-08-27</th>\n",
       "      <td>2</td>\n",
       "      <td>Bengaluru, India</td>\n",
       "      <td>Silver</td>\n",
       "      <td>Bills</td>\n",
       "      <td>F</td>\n",
       "      <td>101738</td>\n",
       "    </tr>\n",
       "    <tr>\n",
       "      <th>2014-04-12</th>\n",
       "      <td>3</td>\n",
       "      <td>Greater Mumbai, India</td>\n",
       "      <td>Signature</td>\n",
       "      <td>Bills</td>\n",
       "      <td>F</td>\n",
       "      <td>123424</td>\n",
       "    </tr>\n",
       "    <tr>\n",
       "      <th>2015-05-05</th>\n",
       "      <td>4</td>\n",
       "      <td>Bengaluru, India</td>\n",
       "      <td>Gold</td>\n",
       "      <td>Bills</td>\n",
       "      <td>F</td>\n",
       "      <td>171574</td>\n",
       "    </tr>\n",
       "    <tr>\n",
       "      <th>...</th>\n",
       "      <td>...</td>\n",
       "      <td>...</td>\n",
       "      <td>...</td>\n",
       "      <td>...</td>\n",
       "      <td>...</td>\n",
       "      <td>...</td>\n",
       "    </tr>\n",
       "    <tr>\n",
       "      <th>2013-12-13</th>\n",
       "      <td>25291</td>\n",
       "      <td>Lucknow, India</td>\n",
       "      <td>Gold</td>\n",
       "      <td>Bills</td>\n",
       "      <td>F</td>\n",
       "      <td>63335</td>\n",
       "    </tr>\n",
       "    <tr>\n",
       "      <th>2014-11-27</th>\n",
       "      <td>25293</td>\n",
       "      <td>Surat, India</td>\n",
       "      <td>Gold</td>\n",
       "      <td>Bills</td>\n",
       "      <td>M</td>\n",
       "      <td>186860</td>\n",
       "    </tr>\n",
       "    <tr>\n",
       "      <th>2013-12-01</th>\n",
       "      <td>25309</td>\n",
       "      <td>Jaipur, India</td>\n",
       "      <td>Silver</td>\n",
       "      <td>Bills</td>\n",
       "      <td>M</td>\n",
       "      <td>157997</td>\n",
       "    </tr>\n",
       "    <tr>\n",
       "      <th>2014-11-21</th>\n",
       "      <td>25310</td>\n",
       "      <td>Pune, India</td>\n",
       "      <td>Platinum</td>\n",
       "      <td>Bills</td>\n",
       "      <td>F</td>\n",
       "      <td>13593</td>\n",
       "    </tr>\n",
       "    <tr>\n",
       "      <th>2013-10-19</th>\n",
       "      <td>26051</td>\n",
       "      <td>Hyderabad, India</td>\n",
       "      <td>Signature</td>\n",
       "      <td>Bills</td>\n",
       "      <td>M</td>\n",
       "      <td>184410</td>\n",
       "    </tr>\n",
       "  </tbody>\n",
       "</table>\n",
       "<p>5078 rows × 6 columns</p>\n",
       "</div>"
      ],
      "text/plain": [
       "            index                   City  Card Type Exp Type Gender  Amount\n",
       "Date                                                                       \n",
       "2014-10-29      0           Delhi, India       Gold    Bills      F   82475\n",
       "2014-08-22      1  Greater Mumbai, India   Platinum    Bills      F   32555\n",
       "2014-08-27      2       Bengaluru, India     Silver    Bills      F  101738\n",
       "2014-04-12      3  Greater Mumbai, India  Signature    Bills      F  123424\n",
       "2015-05-05      4       Bengaluru, India       Gold    Bills      F  171574\n",
       "...           ...                    ...        ...      ...    ...     ...\n",
       "2013-12-13  25291         Lucknow, India       Gold    Bills      F   63335\n",
       "2014-11-27  25293           Surat, India       Gold    Bills      M  186860\n",
       "2013-12-01  25309          Jaipur, India     Silver    Bills      M  157997\n",
       "2014-11-21  25310            Pune, India   Platinum    Bills      F   13593\n",
       "2013-10-19  26051       Hyderabad, India  Signature    Bills      M  184410\n",
       "\n",
       "[5078 rows x 6 columns]"
      ]
     },
     "execution_count": 14,
     "metadata": {},
     "output_type": "execute_result"
    }
   ],
   "source": [
    "bills = th[th['Exp Type']=='Bills']\n",
    "bills"
   ]
  },
  {
   "cell_type": "code",
   "execution_count": 66,
   "metadata": {},
   "outputs": [
    {
     "data": {
      "text/plain": [
       "<bound method Series.max of City\n",
       "Bengaluru, India         735\n",
       "Greater Mumbai, India    728\n",
       "Delhi, India             701\n",
       "Ahmedabad, India         680\n",
       "Kolkata, India           149\n",
       "                        ... \n",
       "Palia Kalan, India         1\n",
       "Dhamtari, India            1\n",
       "Shahabad, India            1\n",
       "Kochi, India               1\n",
       "Nahan, India               1\n",
       "Name: count, Length: 699, dtype: int64>"
      ]
     },
     "execution_count": 66,
     "metadata": {},
     "output_type": "execute_result"
    }
   ],
   "source": [
    "bills['City'].value_counts().max"
   ]
  },
  {
   "cell_type": "code",
   "execution_count": 64,
   "metadata": {},
   "outputs": [
    {
     "data": {
      "text/plain": [
       "Card Type\n",
       "Silver       1334\n",
       "Signature    1259\n",
       "Gold         1256\n",
       "Platinum     1229\n",
       "Name: count, dtype: int64"
      ]
     },
     "execution_count": 64,
     "metadata": {},
     "output_type": "execute_result"
    }
   ],
   "source": [
    "bills['Card Type'].value_counts()"
   ]
  },
  {
   "cell_type": "code",
   "execution_count": 65,
   "metadata": {},
   "outputs": [
    {
     "data": {
      "text/plain": [
       "Gender\n",
       "F    2860\n",
       "M    2218\n",
       "Name: count, dtype: int64"
      ]
     },
     "execution_count": 65,
     "metadata": {},
     "output_type": "execute_result"
    }
   ],
   "source": [
    "bills['Gender'].value_counts()"
   ]
  },
  {
   "cell_type": "code",
   "execution_count": 15,
   "metadata": {},
   "outputs": [
    {
     "data": {
      "text/plain": [
       "Date\n",
       "2013-10-31    50295291\n",
       "2013-11-30    39732241\n",
       "2013-12-31    46137482\n",
       "2014-01-31    43264467\n",
       "2014-02-28    45021501\n",
       "2014-03-31    45728612\n",
       "2014-04-30    46146204\n",
       "2014-05-31    44377242\n",
       "2014-06-30    45575867\n",
       "2014-07-31    41433680\n",
       "2014-08-31    50861649\n",
       "2014-09-30    46420377\n",
       "2014-10-31    46736857\n",
       "2014-11-30    43898477\n",
       "2014-12-31    44276480\n",
       "2015-01-31    50233016\n",
       "2015-02-28    43260213\n",
       "2015-03-31    47808820\n",
       "2015-04-30    49345836\n",
       "2015-05-31    36518161\n",
       "Freq: ME, Name: Amount, dtype: int64"
      ]
     },
     "execution_count": 15,
     "metadata": {},
     "output_type": "execute_result"
    }
   ],
   "source": [
    "b = bills['Amount']\n",
    "ty = b.resample('ME').sum()\n",
    "ty"
   ]
  },
  {
   "cell_type": "code",
   "execution_count": 16,
   "metadata": {},
   "outputs": [
    {
     "data": {
      "text/html": [
       "<div>\n",
       "<style scoped>\n",
       "    .dataframe tbody tr th:only-of-type {\n",
       "        vertical-align: middle;\n",
       "    }\n",
       "\n",
       "    .dataframe tbody tr th {\n",
       "        vertical-align: top;\n",
       "    }\n",
       "\n",
       "    .dataframe thead th {\n",
       "        text-align: right;\n",
       "    }\n",
       "</style>\n",
       "<table border=\"1\" class=\"dataframe\">\n",
       "  <thead>\n",
       "    <tr style=\"text-align: right;\">\n",
       "      <th></th>\n",
       "      <th>index</th>\n",
       "      <th>City</th>\n",
       "      <th>Card Type</th>\n",
       "      <th>Exp Type</th>\n",
       "      <th>Gender</th>\n",
       "      <th>Amount</th>\n",
       "    </tr>\n",
       "    <tr>\n",
       "      <th>Date</th>\n",
       "      <th></th>\n",
       "      <th></th>\n",
       "      <th></th>\n",
       "      <th></th>\n",
       "      <th></th>\n",
       "      <th></th>\n",
       "    </tr>\n",
       "  </thead>\n",
       "  <tbody>\n",
       "    <tr>\n",
       "      <th>2014-05-06</th>\n",
       "      <td>763</td>\n",
       "      <td>Bengaluru, India</td>\n",
       "      <td>Silver</td>\n",
       "      <td>Fuel</td>\n",
       "      <td>F</td>\n",
       "      <td>194493</td>\n",
       "    </tr>\n",
       "    <tr>\n",
       "      <th>2014-12-27</th>\n",
       "      <td>767</td>\n",
       "      <td>Greater Mumbai, India</td>\n",
       "      <td>Silver</td>\n",
       "      <td>Fuel</td>\n",
       "      <td>F</td>\n",
       "      <td>249400</td>\n",
       "    </tr>\n",
       "    <tr>\n",
       "      <th>2014-12-18</th>\n",
       "      <td>783</td>\n",
       "      <td>Greater Mumbai, India</td>\n",
       "      <td>Silver</td>\n",
       "      <td>Fuel</td>\n",
       "      <td>F</td>\n",
       "      <td>239856</td>\n",
       "    </tr>\n",
       "    <tr>\n",
       "      <th>2014-04-14</th>\n",
       "      <td>785</td>\n",
       "      <td>Greater Mumbai, India</td>\n",
       "      <td>Silver</td>\n",
       "      <td>Fuel</td>\n",
       "      <td>F</td>\n",
       "      <td>10476</td>\n",
       "    </tr>\n",
       "    <tr>\n",
       "      <th>2014-06-15</th>\n",
       "      <td>788</td>\n",
       "      <td>Delhi, India</td>\n",
       "      <td>Silver</td>\n",
       "      <td>Fuel</td>\n",
       "      <td>F</td>\n",
       "      <td>31365</td>\n",
       "    </tr>\n",
       "    <tr>\n",
       "      <th>...</th>\n",
       "      <td>...</td>\n",
       "      <td>...</td>\n",
       "      <td>...</td>\n",
       "      <td>...</td>\n",
       "      <td>...</td>\n",
       "      <td>...</td>\n",
       "    </tr>\n",
       "    <tr>\n",
       "      <th>2015-01-29</th>\n",
       "      <td>25300</td>\n",
       "      <td>Lucknow, India</td>\n",
       "      <td>Platinum</td>\n",
       "      <td>Fuel</td>\n",
       "      <td>M</td>\n",
       "      <td>68952</td>\n",
       "    </tr>\n",
       "    <tr>\n",
       "      <th>2014-07-08</th>\n",
       "      <td>25304</td>\n",
       "      <td>Lucknow, India</td>\n",
       "      <td>Signature</td>\n",
       "      <td>Fuel</td>\n",
       "      <td>M</td>\n",
       "      <td>23952</td>\n",
       "    </tr>\n",
       "    <tr>\n",
       "      <th>2014-07-06</th>\n",
       "      <td>25307</td>\n",
       "      <td>Surat, India</td>\n",
       "      <td>Platinum</td>\n",
       "      <td>Fuel</td>\n",
       "      <td>F</td>\n",
       "      <td>111182</td>\n",
       "    </tr>\n",
       "    <tr>\n",
       "      <th>2015-01-25</th>\n",
       "      <td>25308</td>\n",
       "      <td>Surat, India</td>\n",
       "      <td>Platinum</td>\n",
       "      <td>Fuel</td>\n",
       "      <td>F</td>\n",
       "      <td>215046</td>\n",
       "    </tr>\n",
       "    <tr>\n",
       "      <th>2014-10-13</th>\n",
       "      <td>25312</td>\n",
       "      <td>Kanpur, India</td>\n",
       "      <td>Silver</td>\n",
       "      <td>Fuel</td>\n",
       "      <td>M</td>\n",
       "      <td>107212</td>\n",
       "    </tr>\n",
       "  </tbody>\n",
       "</table>\n",
       "<p>5257 rows × 6 columns</p>\n",
       "</div>"
      ],
      "text/plain": [
       "            index                   City  Card Type Exp Type Gender  Amount\n",
       "Date                                                                       \n",
       "2014-05-06    763       Bengaluru, India     Silver     Fuel      F  194493\n",
       "2014-12-27    767  Greater Mumbai, India     Silver     Fuel      F  249400\n",
       "2014-12-18    783  Greater Mumbai, India     Silver     Fuel      F  239856\n",
       "2014-04-14    785  Greater Mumbai, India     Silver     Fuel      F   10476\n",
       "2014-06-15    788           Delhi, India     Silver     Fuel      F   31365\n",
       "...           ...                    ...        ...      ...    ...     ...\n",
       "2015-01-29  25300         Lucknow, India   Platinum     Fuel      M   68952\n",
       "2014-07-08  25304         Lucknow, India  Signature     Fuel      M   23952\n",
       "2014-07-06  25307           Surat, India   Platinum     Fuel      F  111182\n",
       "2015-01-25  25308           Surat, India   Platinum     Fuel      F  215046\n",
       "2014-10-13  25312          Kanpur, India     Silver     Fuel      M  107212\n",
       "\n",
       "[5257 rows x 6 columns]"
      ]
     },
     "execution_count": 16,
     "metadata": {},
     "output_type": "execute_result"
    }
   ],
   "source": [
    "fuel= th[th['Exp Type']=='Fuel']\n",
    "fuel"
   ]
  },
  {
   "cell_type": "code",
   "execution_count": 17,
   "metadata": {},
   "outputs": [
    {
     "data": {
      "text/plain": [
       "Date\n",
       "2013-10-31    36974874\n",
       "2013-11-30    35523649\n",
       "2013-12-31    41440215\n",
       "2014-01-31    43969869\n",
       "2014-02-28    38049793\n",
       "2014-03-31    39357883\n",
       "2014-04-30    38192940\n",
       "2014-05-31    38282048\n",
       "2014-06-30    36696922\n",
       "2014-07-31    40808245\n",
       "2014-08-31    42170734\n",
       "2014-09-30    45609869\n",
       "2014-10-31    40752691\n",
       "2014-11-30    37257540\n",
       "2014-12-31    40548650\n",
       "2015-01-31    44098388\n",
       "2015-02-28    41770574\n",
       "2015-03-31    42356420\n",
       "2015-04-30    30216278\n",
       "2015-05-31    35058239\n",
       "Freq: ME, Name: Amount, dtype: int64"
      ]
     },
     "execution_count": 17,
     "metadata": {},
     "output_type": "execute_result"
    }
   ],
   "source": [
    "f = fuel['Amount']\n",
    "zh = f.resample('ME').sum()\n",
    "zh"
   ]
  },
  {
   "cell_type": "code",
   "execution_count": 18,
   "metadata": {},
   "outputs": [
    {
     "data": {
      "text/html": [
       "<div>\n",
       "<style scoped>\n",
       "    .dataframe tbody tr th:only-of-type {\n",
       "        vertical-align: middle;\n",
       "    }\n",
       "\n",
       "    .dataframe tbody tr th {\n",
       "        vertical-align: top;\n",
       "    }\n",
       "\n",
       "    .dataframe thead th {\n",
       "        text-align: right;\n",
       "    }\n",
       "</style>\n",
       "<table border=\"1\" class=\"dataframe\">\n",
       "  <thead>\n",
       "    <tr style=\"text-align: right;\">\n",
       "      <th></th>\n",
       "      <th>index</th>\n",
       "      <th>City</th>\n",
       "      <th>Card Type</th>\n",
       "      <th>Exp Type</th>\n",
       "      <th>Gender</th>\n",
       "      <th>Amount</th>\n",
       "    </tr>\n",
       "    <tr>\n",
       "      <th>Date</th>\n",
       "      <th></th>\n",
       "      <th></th>\n",
       "      <th></th>\n",
       "      <th></th>\n",
       "      <th></th>\n",
       "      <th></th>\n",
       "    </tr>\n",
       "  </thead>\n",
       "  <tbody>\n",
       "    <tr>\n",
       "      <th>2014-02-26</th>\n",
       "      <td>762</td>\n",
       "      <td>Ahmedabad, India</td>\n",
       "      <td>Silver</td>\n",
       "      <td>Grocery</td>\n",
       "      <td>F</td>\n",
       "      <td>36575</td>\n",
       "    </tr>\n",
       "    <tr>\n",
       "      <th>2014-05-25</th>\n",
       "      <td>768</td>\n",
       "      <td>Delhi, India</td>\n",
       "      <td>Silver</td>\n",
       "      <td>Grocery</td>\n",
       "      <td>F</td>\n",
       "      <td>213000</td>\n",
       "    </tr>\n",
       "    <tr>\n",
       "      <th>2013-12-08</th>\n",
       "      <td>772</td>\n",
       "      <td>Greater Mumbai, India</td>\n",
       "      <td>Silver</td>\n",
       "      <td>Grocery</td>\n",
       "      <td>F</td>\n",
       "      <td>183633</td>\n",
       "    </tr>\n",
       "    <tr>\n",
       "      <th>2014-10-15</th>\n",
       "      <td>780</td>\n",
       "      <td>Bengaluru, India</td>\n",
       "      <td>Silver</td>\n",
       "      <td>Grocery</td>\n",
       "      <td>F</td>\n",
       "      <td>53822</td>\n",
       "    </tr>\n",
       "    <tr>\n",
       "      <th>2013-11-02</th>\n",
       "      <td>787</td>\n",
       "      <td>Ahmedabad, India</td>\n",
       "      <td>Silver</td>\n",
       "      <td>Grocery</td>\n",
       "      <td>F</td>\n",
       "      <td>171803</td>\n",
       "    </tr>\n",
       "    <tr>\n",
       "      <th>...</th>\n",
       "      <td>...</td>\n",
       "      <td>...</td>\n",
       "      <td>...</td>\n",
       "      <td>...</td>\n",
       "      <td>...</td>\n",
       "      <td>...</td>\n",
       "    </tr>\n",
       "    <tr>\n",
       "      <th>2014-07-15</th>\n",
       "      <td>25292</td>\n",
       "      <td>Kolkata, India</td>\n",
       "      <td>Silver</td>\n",
       "      <td>Grocery</td>\n",
       "      <td>F</td>\n",
       "      <td>244334</td>\n",
       "    </tr>\n",
       "    <tr>\n",
       "      <th>2014-06-04</th>\n",
       "      <td>25295</td>\n",
       "      <td>Lucknow, India</td>\n",
       "      <td>Gold</td>\n",
       "      <td>Grocery</td>\n",
       "      <td>F</td>\n",
       "      <td>279603</td>\n",
       "    </tr>\n",
       "    <tr>\n",
       "      <th>2014-11-16</th>\n",
       "      <td>25296</td>\n",
       "      <td>Pune, India</td>\n",
       "      <td>Platinum</td>\n",
       "      <td>Grocery</td>\n",
       "      <td>M</td>\n",
       "      <td>26217</td>\n",
       "    </tr>\n",
       "    <tr>\n",
       "      <th>2014-03-13</th>\n",
       "      <td>25298</td>\n",
       "      <td>Kolkata, India</td>\n",
       "      <td>Platinum</td>\n",
       "      <td>Grocery</td>\n",
       "      <td>F</td>\n",
       "      <td>122249</td>\n",
       "    </tr>\n",
       "    <tr>\n",
       "      <th>2014-08-05</th>\n",
       "      <td>25306</td>\n",
       "      <td>Hyderabad, India</td>\n",
       "      <td>Silver</td>\n",
       "      <td>Grocery</td>\n",
       "      <td>F</td>\n",
       "      <td>284608</td>\n",
       "    </tr>\n",
       "  </tbody>\n",
       "</table>\n",
       "<p>4754 rows × 6 columns</p>\n",
       "</div>"
      ],
      "text/plain": [
       "            index                   City Card Type Exp Type Gender  Amount\n",
       "Date                                                                      \n",
       "2014-02-26    762       Ahmedabad, India    Silver  Grocery      F   36575\n",
       "2014-05-25    768           Delhi, India    Silver  Grocery      F  213000\n",
       "2013-12-08    772  Greater Mumbai, India    Silver  Grocery      F  183633\n",
       "2014-10-15    780       Bengaluru, India    Silver  Grocery      F   53822\n",
       "2013-11-02    787       Ahmedabad, India    Silver  Grocery      F  171803\n",
       "...           ...                    ...       ...      ...    ...     ...\n",
       "2014-07-15  25292         Kolkata, India    Silver  Grocery      F  244334\n",
       "2014-06-04  25295         Lucknow, India      Gold  Grocery      F  279603\n",
       "2014-11-16  25296            Pune, India  Platinum  Grocery      M   26217\n",
       "2014-03-13  25298         Kolkata, India  Platinum  Grocery      F  122249\n",
       "2014-08-05  25306       Hyderabad, India    Silver  Grocery      F  284608\n",
       "\n",
       "[4754 rows x 6 columns]"
      ]
     },
     "execution_count": 18,
     "metadata": {},
     "output_type": "execute_result"
    }
   ],
   "source": [
    "grocery= th[th['Exp Type']=='Grocery']\n",
    "grocery"
   ]
  },
  {
   "cell_type": "code",
   "execution_count": 19,
   "metadata": {},
   "outputs": [
    {
     "data": {
      "text/plain": [
       "Date\n",
       "2013-10-31    33414663\n",
       "2013-11-30    38657298\n",
       "2013-12-31    39734929\n",
       "2014-01-31    38778511\n",
       "2014-02-28    32123750\n",
       "2014-03-31    33469230\n",
       "2014-04-30    36277753\n",
       "2014-05-31    34742619\n",
       "2014-06-30    34013894\n",
       "2014-07-31    33599407\n",
       "2014-08-31    37525614\n",
       "2014-09-30    35860951\n",
       "2014-10-31    36758867\n",
       "2014-11-30    39478945\n",
       "2014-12-31    35999420\n",
       "2015-01-31    37670560\n",
       "2015-02-28    34666258\n",
       "2015-03-31    34550966\n",
       "2015-04-30    37994661\n",
       "2015-05-31    32889627\n",
       "Freq: ME, Name: Amount, dtype: int64"
      ]
     },
     "execution_count": 19,
     "metadata": {},
     "output_type": "execute_result"
    }
   ],
   "source": [
    "g = grocery['Amount']\n",
    "cb = g.resample('ME').sum()\n",
    "cb"
   ]
  },
  {
   "cell_type": "code",
   "execution_count": 20,
   "metadata": {},
   "outputs": [
    {
     "data": {
      "text/html": [
       "<div>\n",
       "<style scoped>\n",
       "    .dataframe tbody tr th:only-of-type {\n",
       "        vertical-align: middle;\n",
       "    }\n",
       "\n",
       "    .dataframe tbody tr th {\n",
       "        vertical-align: top;\n",
       "    }\n",
       "\n",
       "    .dataframe thead th {\n",
       "        text-align: right;\n",
       "    }\n",
       "</style>\n",
       "<table border=\"1\" class=\"dataframe\">\n",
       "  <thead>\n",
       "    <tr style=\"text-align: right;\">\n",
       "      <th></th>\n",
       "      <th>index</th>\n",
       "      <th>City</th>\n",
       "      <th>Card Type</th>\n",
       "      <th>Exp Type</th>\n",
       "      <th>Gender</th>\n",
       "      <th>Amount</th>\n",
       "    </tr>\n",
       "    <tr>\n",
       "      <th>Date</th>\n",
       "      <th></th>\n",
       "      <th></th>\n",
       "      <th></th>\n",
       "      <th></th>\n",
       "      <th></th>\n",
       "      <th></th>\n",
       "    </tr>\n",
       "  </thead>\n",
       "  <tbody>\n",
       "    <tr>\n",
       "      <th>2014-11-20</th>\n",
       "      <td>468</td>\n",
       "      <td>Greater Mumbai, India</td>\n",
       "      <td>Silver</td>\n",
       "      <td>Food</td>\n",
       "      <td>F</td>\n",
       "      <td>193429</td>\n",
       "    </tr>\n",
       "    <tr>\n",
       "      <th>2014-04-22</th>\n",
       "      <td>469</td>\n",
       "      <td>Ahmedabad, India</td>\n",
       "      <td>Gold</td>\n",
       "      <td>Food</td>\n",
       "      <td>F</td>\n",
       "      <td>97674</td>\n",
       "    </tr>\n",
       "    <tr>\n",
       "      <th>2014-03-08</th>\n",
       "      <td>470</td>\n",
       "      <td>Bengaluru, India</td>\n",
       "      <td>Silver</td>\n",
       "      <td>Food</td>\n",
       "      <td>F</td>\n",
       "      <td>222579</td>\n",
       "    </tr>\n",
       "    <tr>\n",
       "      <th>2015-03-19</th>\n",
       "      <td>471</td>\n",
       "      <td>Bengaluru, India</td>\n",
       "      <td>Platinum</td>\n",
       "      <td>Food</td>\n",
       "      <td>F</td>\n",
       "      <td>194846</td>\n",
       "    </tr>\n",
       "    <tr>\n",
       "      <th>2015-02-22</th>\n",
       "      <td>472</td>\n",
       "      <td>Greater Mumbai, India</td>\n",
       "      <td>Signature</td>\n",
       "      <td>Food</td>\n",
       "      <td>F</td>\n",
       "      <td>62690</td>\n",
       "    </tr>\n",
       "    <tr>\n",
       "      <th>...</th>\n",
       "      <td>...</td>\n",
       "      <td>...</td>\n",
       "      <td>...</td>\n",
       "      <td>...</td>\n",
       "      <td>...</td>\n",
       "      <td>...</td>\n",
       "    </tr>\n",
       "    <tr>\n",
       "      <th>2014-04-21</th>\n",
       "      <td>25286</td>\n",
       "      <td>Kanpur, India</td>\n",
       "      <td>Platinum</td>\n",
       "      <td>Food</td>\n",
       "      <td>F</td>\n",
       "      <td>250805</td>\n",
       "    </tr>\n",
       "    <tr>\n",
       "      <th>2013-10-31</th>\n",
       "      <td>25288</td>\n",
       "      <td>Pune, India</td>\n",
       "      <td>Gold</td>\n",
       "      <td>Food</td>\n",
       "      <td>F</td>\n",
       "      <td>29419</td>\n",
       "    </tr>\n",
       "    <tr>\n",
       "      <th>2015-01-16</th>\n",
       "      <td>25302</td>\n",
       "      <td>Jaipur, India</td>\n",
       "      <td>Gold</td>\n",
       "      <td>Food</td>\n",
       "      <td>F</td>\n",
       "      <td>129609</td>\n",
       "    </tr>\n",
       "    <tr>\n",
       "      <th>2015-03-22</th>\n",
       "      <td>25303</td>\n",
       "      <td>Pune, India</td>\n",
       "      <td>Gold</td>\n",
       "      <td>Food</td>\n",
       "      <td>F</td>\n",
       "      <td>7541</td>\n",
       "    </tr>\n",
       "    <tr>\n",
       "      <th>2014-10-07</th>\n",
       "      <td>25311</td>\n",
       "      <td>Chennai, India</td>\n",
       "      <td>Gold</td>\n",
       "      <td>Food</td>\n",
       "      <td>M</td>\n",
       "      <td>106722</td>\n",
       "    </tr>\n",
       "  </tbody>\n",
       "</table>\n",
       "<p>5463 rows × 6 columns</p>\n",
       "</div>"
      ],
      "text/plain": [
       "            index                   City  Card Type Exp Type Gender  Amount\n",
       "Date                                                                       \n",
       "2014-11-20    468  Greater Mumbai, India     Silver     Food      F  193429\n",
       "2014-04-22    469       Ahmedabad, India       Gold     Food      F   97674\n",
       "2014-03-08    470       Bengaluru, India     Silver     Food      F  222579\n",
       "2015-03-19    471       Bengaluru, India   Platinum     Food      F  194846\n",
       "2015-02-22    472  Greater Mumbai, India  Signature     Food      F   62690\n",
       "...           ...                    ...        ...      ...    ...     ...\n",
       "2014-04-21  25286          Kanpur, India   Platinum     Food      F  250805\n",
       "2013-10-31  25288            Pune, India       Gold     Food      F   29419\n",
       "2015-01-16  25302          Jaipur, India       Gold     Food      F  129609\n",
       "2015-03-22  25303            Pune, India       Gold     Food      F    7541\n",
       "2014-10-07  25311         Chennai, India       Gold     Food      M  106722\n",
       "\n",
       "[5463 rows x 6 columns]"
      ]
     },
     "execution_count": 20,
     "metadata": {},
     "output_type": "execute_result"
    }
   ],
   "source": [
    "food = th[th['Exp Type']=='Food']\n",
    "food"
   ]
  },
  {
   "cell_type": "code",
   "execution_count": 22,
   "metadata": {},
   "outputs": [
    {
     "data": {
      "text/plain": [
       "Date\n",
       "2013-10-31    43942469\n",
       "2013-11-30    37264653\n",
       "2013-12-31    42077845\n",
       "2014-01-31    41277972\n",
       "2014-02-28    37623562\n",
       "2014-03-31    40834378\n",
       "2014-04-30    42945074\n",
       "2014-05-31    42545727\n",
       "2014-06-30    34478325\n",
       "2014-07-31    37178989\n",
       "2014-08-31    43587662\n",
       "2014-09-30    41905453\n",
       "2014-10-31    45228656\n",
       "2014-11-30    44718454\n",
       "2014-12-31    39058805\n",
       "2015-01-31    47801560\n",
       "2015-02-28    37629682\n",
       "2015-03-31    42607055\n",
       "2015-04-30    45814244\n",
       "2015-05-31    36203444\n",
       "Freq: ME, Name: Amount, dtype: int64"
      ]
     },
     "execution_count": 22,
     "metadata": {},
     "output_type": "execute_result"
    }
   ],
   "source": [
    "x = food['Amount']\n",
    "bn= x.resample('ME').sum()\n",
    "bn"
   ]
  },
  {
   "cell_type": "code",
   "execution_count": 30,
   "metadata": {},
   "outputs": [
    {
     "data": {
      "text/html": [
       "<div>\n",
       "<style scoped>\n",
       "    .dataframe tbody tr th:only-of-type {\n",
       "        vertical-align: middle;\n",
       "    }\n",
       "\n",
       "    .dataframe tbody tr th {\n",
       "        vertical-align: top;\n",
       "    }\n",
       "\n",
       "    .dataframe thead th {\n",
       "        text-align: right;\n",
       "    }\n",
       "</style>\n",
       "<table border=\"1\" class=\"dataframe\">\n",
       "  <thead>\n",
       "    <tr style=\"text-align: right;\">\n",
       "      <th></th>\n",
       "      <th>TRavel</th>\n",
       "      <th>ENtertainment</th>\n",
       "      <th>BIlls</th>\n",
       "      <th>FUel</th>\n",
       "      <th>GRocery</th>\n",
       "      <th>FOod</th>\n",
       "    </tr>\n",
       "  </thead>\n",
       "  <tbody>\n",
       "    <tr>\n",
       "      <th>2013-10-31</th>\n",
       "      <td>3832883</td>\n",
       "      <td>38899912</td>\n",
       "      <td>50295291</td>\n",
       "      <td>36974874</td>\n",
       "      <td>33414663</td>\n",
       "      <td>43942469</td>\n",
       "    </tr>\n",
       "    <tr>\n",
       "      <th>2013-11-30</th>\n",
       "      <td>5652840</td>\n",
       "      <td>35185282</td>\n",
       "      <td>39732241</td>\n",
       "      <td>35523649</td>\n",
       "      <td>38657298</td>\n",
       "      <td>37264653</td>\n",
       "    </tr>\n",
       "    <tr>\n",
       "      <th>2013-12-31</th>\n",
       "      <td>5867883</td>\n",
       "      <td>39009475</td>\n",
       "      <td>46137482</td>\n",
       "      <td>41440215</td>\n",
       "      <td>39734929</td>\n",
       "      <td>42077845</td>\n",
       "    </tr>\n",
       "    <tr>\n",
       "      <th>2014-01-31</th>\n",
       "      <td>4557965</td>\n",
       "      <td>35802198</td>\n",
       "      <td>43264467</td>\n",
       "      <td>43969869</td>\n",
       "      <td>38778511</td>\n",
       "      <td>41277972</td>\n",
       "    </tr>\n",
       "    <tr>\n",
       "      <th>2014-02-28</th>\n",
       "      <td>4665816</td>\n",
       "      <td>31735758</td>\n",
       "      <td>45021501</td>\n",
       "      <td>38049793</td>\n",
       "      <td>32123750</td>\n",
       "      <td>37623562</td>\n",
       "    </tr>\n",
       "    <tr>\n",
       "      <th>2014-03-31</th>\n",
       "      <td>5051459</td>\n",
       "      <td>38791745</td>\n",
       "      <td>45728612</td>\n",
       "      <td>39357883</td>\n",
       "      <td>33469230</td>\n",
       "      <td>40834378</td>\n",
       "    </tr>\n",
       "    <tr>\n",
       "      <th>2014-04-30</th>\n",
       "      <td>6261113</td>\n",
       "      <td>38461648</td>\n",
       "      <td>46146204</td>\n",
       "      <td>38192940</td>\n",
       "      <td>36277753</td>\n",
       "      <td>42945074</td>\n",
       "    </tr>\n",
       "    <tr>\n",
       "      <th>2014-05-31</th>\n",
       "      <td>6906496</td>\n",
       "      <td>34908180</td>\n",
       "      <td>44377242</td>\n",
       "      <td>38282048</td>\n",
       "      <td>34742619</td>\n",
       "      <td>42545727</td>\n",
       "    </tr>\n",
       "    <tr>\n",
       "      <th>2014-06-30</th>\n",
       "      <td>6235434</td>\n",
       "      <td>34320597</td>\n",
       "      <td>45575867</td>\n",
       "      <td>36696922</td>\n",
       "      <td>34013894</td>\n",
       "      <td>34478325</td>\n",
       "    </tr>\n",
       "    <tr>\n",
       "      <th>2014-07-31</th>\n",
       "      <td>4483812</td>\n",
       "      <td>40477283</td>\n",
       "      <td>41433680</td>\n",
       "      <td>40808245</td>\n",
       "      <td>33599407</td>\n",
       "      <td>37178989</td>\n",
       "    </tr>\n",
       "    <tr>\n",
       "      <th>2014-08-31</th>\n",
       "      <td>3811831</td>\n",
       "      <td>40495636</td>\n",
       "      <td>50861649</td>\n",
       "      <td>42170734</td>\n",
       "      <td>37525614</td>\n",
       "      <td>43587662</td>\n",
       "    </tr>\n",
       "    <tr>\n",
       "      <th>2014-09-30</th>\n",
       "      <td>3272659</td>\n",
       "      <td>36492124</td>\n",
       "      <td>46420377</td>\n",
       "      <td>45609869</td>\n",
       "      <td>35860951</td>\n",
       "      <td>41905453</td>\n",
       "    </tr>\n",
       "    <tr>\n",
       "      <th>2014-10-31</th>\n",
       "      <td>5837558</td>\n",
       "      <td>37171286</td>\n",
       "      <td>46736857</td>\n",
       "      <td>40752691</td>\n",
       "      <td>36758867</td>\n",
       "      <td>45228656</td>\n",
       "    </tr>\n",
       "    <tr>\n",
       "      <th>2014-11-30</th>\n",
       "      <td>7929200</td>\n",
       "      <td>38809389</td>\n",
       "      <td>43898477</td>\n",
       "      <td>37257540</td>\n",
       "      <td>39478945</td>\n",
       "      <td>44718454</td>\n",
       "    </tr>\n",
       "    <tr>\n",
       "      <th>2014-12-31</th>\n",
       "      <td>6519505</td>\n",
       "      <td>36264726</td>\n",
       "      <td>44276480</td>\n",
       "      <td>40548650</td>\n",
       "      <td>35999420</td>\n",
       "      <td>39058805</td>\n",
       "    </tr>\n",
       "    <tr>\n",
       "      <th>2015-01-31</th>\n",
       "      <td>4533120</td>\n",
       "      <td>39221930</td>\n",
       "      <td>50233016</td>\n",
       "      <td>44098388</td>\n",
       "      <td>37670560</td>\n",
       "      <td>47801560</td>\n",
       "    </tr>\n",
       "    <tr>\n",
       "      <th>2015-02-28</th>\n",
       "      <td>5743725</td>\n",
       "      <td>31221992</td>\n",
       "      <td>43260213</td>\n",
       "      <td>41770574</td>\n",
       "      <td>34666258</td>\n",
       "      <td>37629682</td>\n",
       "    </tr>\n",
       "    <tr>\n",
       "      <th>2015-03-31</th>\n",
       "      <td>5829348</td>\n",
       "      <td>33668530</td>\n",
       "      <td>47808820</td>\n",
       "      <td>42356420</td>\n",
       "      <td>34550966</td>\n",
       "      <td>42607055</td>\n",
       "    </tr>\n",
       "    <tr>\n",
       "      <th>2015-04-30</th>\n",
       "      <td>6627294</td>\n",
       "      <td>38111689</td>\n",
       "      <td>49345836</td>\n",
       "      <td>30216278</td>\n",
       "      <td>37994661</td>\n",
       "      <td>45814244</td>\n",
       "    </tr>\n",
       "    <tr>\n",
       "      <th>2015-05-31</th>\n",
       "      <td>5635670</td>\n",
       "      <td>27388156</td>\n",
       "      <td>36518161</td>\n",
       "      <td>35058239</td>\n",
       "      <td>32889627</td>\n",
       "      <td>36203444</td>\n",
       "    </tr>\n",
       "  </tbody>\n",
       "</table>\n",
       "</div>"
      ],
      "text/plain": [
       "             TRavel  ENtertainment     BIlls      FUel   GRocery      FOod\n",
       "2013-10-31  3832883       38899912  50295291  36974874  33414663  43942469\n",
       "2013-11-30  5652840       35185282  39732241  35523649  38657298  37264653\n",
       "2013-12-31  5867883       39009475  46137482  41440215  39734929  42077845\n",
       "2014-01-31  4557965       35802198  43264467  43969869  38778511  41277972\n",
       "2014-02-28  4665816       31735758  45021501  38049793  32123750  37623562\n",
       "2014-03-31  5051459       38791745  45728612  39357883  33469230  40834378\n",
       "2014-04-30  6261113       38461648  46146204  38192940  36277753  42945074\n",
       "2014-05-31  6906496       34908180  44377242  38282048  34742619  42545727\n",
       "2014-06-30  6235434       34320597  45575867  36696922  34013894  34478325\n",
       "2014-07-31  4483812       40477283  41433680  40808245  33599407  37178989\n",
       "2014-08-31  3811831       40495636  50861649  42170734  37525614  43587662\n",
       "2014-09-30  3272659       36492124  46420377  45609869  35860951  41905453\n",
       "2014-10-31  5837558       37171286  46736857  40752691  36758867  45228656\n",
       "2014-11-30  7929200       38809389  43898477  37257540  39478945  44718454\n",
       "2014-12-31  6519505       36264726  44276480  40548650  35999420  39058805\n",
       "2015-01-31  4533120       39221930  50233016  44098388  37670560  47801560\n",
       "2015-02-28  5743725       31221992  43260213  41770574  34666258  37629682\n",
       "2015-03-31  5829348       33668530  47808820  42356420  34550966  42607055\n",
       "2015-04-30  6627294       38111689  49345836  30216278  37994661  45814244\n",
       "2015-05-31  5635670       27388156  36518161  35058239  32889627  36203444"
      ]
     },
     "execution_count": 30,
     "metadata": {},
     "output_type": "execute_result"
    }
   ],
   "source": [
    "dates = ['2013-10-31','2013-11-30','2013-12-31','2014-01-31','2014-02-28','2014-03-31','2014-04-30','2014-05-31','2014-06-30','2014-07-31','2014-08-31','2014-09-30','2014-10-31','2014-11-30','2014-12-31','2015-01-31','2015-02-28','2015-03-31','2015-04-30','2015-05-31']\n",
    "TRavel = [3832883,5652840,5867883,4557965,4665816,5051459,6261113,6906496,6235434,4483812,3811831,3272659,5837558,7929200,6519505,4533120,5743725,5829348,6627294,5635670]\n",
    "ENtertainment = [38899912,35185282,39009475,35802198,31735758,38791745,38461648,34908180,34320597,40477283,40495636,36492124,37171286,38809389,36264726,39221930,31221992,33668530,38111689,27388156]\n",
    "BIlls = [50295291,39732241,46137482,43264467,45021501,45728612,46146204,44377242,45575867,41433680,50861649,46420377,46736857,43898477,44276480,50233016,43260213,47808820,49345836,36518161]\n",
    "FUel = [36974874,35523649,41440215,43969869,38049793,39357883,38192940,38282048,36696922,40808245,42170734,45609869,40752691,37257540,40548650,44098388,41770574,42356420,30216278,35058239]\n",
    "GRocery = [33414663,38657298,39734929,38778511,32123750,33469230,36277753,34742619,34013894,33599407,37525614,35860951,36758867,39478945,35999420,37670560,34666258,34550966,37994661,32889627]\n",
    "FOod = [43942469,37264653,42077845,41277972,37623562,40834378,42945074,42545727,34478325,37178989,43587662,41905453,45228656,44718454,39058805,47801560,37629682,42607055,45814244,36203444]\n",
    "TRends = pd.DataFrame(list(zip(TRavel,ENtertainment,BIlls,FUel,GRocery,FOod)),index=dates,columns=['TRavel','ENtertainment','BIlls','FUel','GRocery','FOod'])\n",
    "TRends"
   ]
  },
  {
   "cell_type": "code",
   "execution_count": null,
   "metadata": {},
   "outputs": [],
   "source": [
    "TRends.index = pd.to_datetime(TRends.index)"
   ]
  },
  {
   "cell_type": "code",
   "execution_count": 36,
   "metadata": {},
   "outputs": [
    {
     "data": {
      "image/png": "[encoded data removed]",
      "text/plain": [
       "<Figure size 640x480 with 1 Axes>"
      ]
     },
     "metadata": {},
     "output_type": "display_data"
    }
   ],
   "source": [
    "TRends.plot()\n",
    "plt.title('Trends per exp type')\n",
    "plt.xlabel('Months')\n",
    "plt.ylabel('Amounts')\n",
    "plt.show()"
   ]
  }
 ],
 "metadata": {
  "kernelspec": {
   "display_name": "Python 3",
   "language": "python",
   "name": "python3"
  },
  "language_info": {
   "codemirror_mode": {
    "name": "ipython",
    "version": 3
   },
   "file_extension": ".py",
   "mimetype": "text/x-python",
   "name": "python",
   "nbconvert_exporter": "python",
   "pygments_lexer": "ipython3",
   "version": "3.13.0"
  }
 },
 "nbformat": 4,
 "nbformat_minor": 2
}
